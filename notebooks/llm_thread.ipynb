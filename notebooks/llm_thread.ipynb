{
 "cells": [
  {
   "cell_type": "code",
   "execution_count": 1,
   "metadata": {},
   "outputs": [],
   "source": [
    "import sys\n",
    "sys.path.append('../')"
   ]
  },
  {
   "cell_type": "code",
   "execution_count": 2,
   "metadata": {},
   "outputs": [],
   "source": [
    "from langchain_community.chat_models import ChatPerplexity\n",
    "from langchain_core.prompts import ChatPromptTemplate\n",
    "from langchain_core.messages import SystemMessage\n",
    "\n",
    "from config import Config"
   ]
  },
  {
   "cell_type": "code",
   "execution_count": 3,
   "metadata": {},
   "outputs": [],
   "source": [
    "from pydantic import BaseModel\n",
    "from typing import List\n",
    "\n",
    "class Tweet(BaseModel):\n",
    "    id: int\n",
    "    content: str\n",
    "\n",
    "class TwitterThreadResponse(BaseModel):\n",
    "    thread_title: str\n",
    "    tweets: List[Tweet]"
   ]
  },
  {
   "cell_type": "code",
   "execution_count": 4,
   "metadata": {},
   "outputs": [],
   "source": [
    "llm = ChatPerplexity(\n",
    "    temperature=0.5, pplx_api_key=Config.PPLX_API_KEY, model=\"llama-3.1-sonar-small-128k-online\"\n",
    ")\n",
    "\n",
    "# NOTE: NOT SUPPORTED YET\n",
    "# structured_llm = llm.with_structured_output(TwitterThreadResponse)"
   ]
  },
  {
   "cell_type": "markdown",
   "metadata": {},
   "source": [
    "## Build Prompt"
   ]
  },
  {
   "cell_type": "code",
   "execution_count": 5,
   "metadata": {},
   "outputs": [],
   "source": [
    "system_message = \"\"\"\n",
    "    #Prompt:\n",
    "\n",
    "    You are an AI assistant specialized in Twitter thread creation. Your task is to write a concise, engaging, and well-structured Twitter thread based on the user's query.  \n",
    "\n",
    "    **Instructions**:  \n",
    "    - Respond ONLY with the numbered tweets of the thread, without adding any introductory or closing remarks, explanations, or meta-comments outside the thread.  \n",
    "    - Each tweet in the thread must:\n",
    "    - Be concise (maximum 280 characters per tweet, adhering to Twitter's limits).  \n",
    "    - Remain within a total content limit of 25,000 characters for the entire thread.  \n",
    "    - Be engaging, informative, and relevant to the query.  \n",
    "    - Use emojis and hashtags sparingly to highlight key points.  \n",
    "\n",
    "    **Example Query**:  \n",
    "    Create a thread about the latest trends in AI.\n",
    "\n",
    "    #Output Rules:\n",
    "    1. Respond *only* with the Twitter thread. Avoid adding any additional text, comments, or explanations. The output should be ready for copy-pasting.\n",
    "    2. Start with an attention-grabbing title as \"1/n\", followed by coherent tweets that flow logically from one to the next.\n",
    "\n",
    "    # Example Output Based on a Query:\n",
    "    *Query*: \"Create a thread on the latest updates in the tech world.\"\n",
    "\n",
    "    *Twitter Thread Output*:\n",
    "    1/ 🚀 Here’s the beginning of an engaging Twitter thread!\n",
    "    …\n",
    "    2/ 🛠️ The final part of the thread ends here.\n",
    "\"\"\"\n",
    "\n",
    "human = \"{input}\""
   ]
  },
  {
   "cell_type": "code",
   "execution_count": 6,
   "metadata": {},
   "outputs": [],
   "source": [
    "prompt = ChatPromptTemplate.from_messages([\n",
    "    SystemMessage(content=system_message), \n",
    "    (\"human\", human)\n",
    "])"
   ]
  },
  {
   "cell_type": "code",
   "execution_count": 7,
   "metadata": {},
   "outputs": [
    {
     "name": "stdout",
     "output_type": "stream",
     "text": [
      "input_variables=['input'] input_types={} partial_variables={} messages=[SystemMessage(content='\\n    #Prompt:\\n\\n    You are an AI assistant specialized in Twitter thread creation. Your task is to write a concise, engaging, and well-structured Twitter thread based on the user\\'s query.  \\n\\n    **Instructions**:  \\n    - Respond ONLY with the numbered tweets of the thread, without adding any introductory or closing remarks, explanations, or meta-comments outside the thread.  \\n    - Each tweet in the thread must:\\n    - Be concise (maximum 280 characters per tweet, adhering to Twitter\\'s limits).  \\n    - Remain within a total content limit of 25,000 characters for the entire thread.  \\n    - Be engaging, informative, and relevant to the query.  \\n    - Use emojis and hashtags sparingly to highlight key points.  \\n\\n    **Example Query**:  \\n    Create a thread about the latest trends in AI.\\n\\n    #Output Rules:\\n    1. Respond *only* with the Twitter thread. Avoid adding any additional text, comments, or explanations. The output should be ready for copy-pasting.\\n    2. Start with an attention-grabbing title as \"1/n\", followed by coherent tweets that flow logically from one to the next.\\n\\n    # Example Output Based on a Query:\\n    *Query*: \"Create a thread on the latest updates in the tech world.\"\\n\\n    *Twitter Thread Output*:\\n    1/ 🚀 Here’s the beginning of an engaging Twitter thread!\\n    …\\n    2/ 🛠️ The final part of the thread ends here.\\n', additional_kwargs={}, response_metadata={}), HumanMessagePromptTemplate(prompt=PromptTemplate(input_variables=['input'], input_types={}, partial_variables={}, template='{input}'), additional_kwargs={})]\n"
     ]
    }
   ],
   "source": [
    "print(prompt)"
   ]
  },
  {
   "cell_type": "code",
   "execution_count": 8,
   "metadata": {},
   "outputs": [
    {
     "data": {
      "text/plain": [
       "\"1/ 🚀 Here’s the latest in AI news!\\n\\n🔹 **Meta's AI Enhancements**: Meta has released an AI model to enhance the metaverse experience, including a Large Concept Model (LCM) for language modeling[1].\\n\\n2/ 🌐 **OpenAI Updates**: OpenAI has restored ChatGPT services after a major disruption. Additionally, they’ve introduced ChatGPT Pro for research use and launched 'Sora Turbo' for video generation[1].\\n\\n3/ 📱 **AI in Tech**: Oppo’s Find X8 Pro boasts 5 AI-powered photography features, and YouTube now offers an auto-dubbing tool in Hindi and seven other languages[1].\\n\\n4/ 🤖 **Google’s AI Advances**: Google has unveiled its new AI agent that can browse and act upon websites automatically. Gemini 2.0 surpasses previous benchmarks with improved performance[1].\\n\\n5/ 💬 **Apple’s AI Integration**: iOS 18.2 introduces ChatGPT-powered Siri, Visual Intelligence, and Image Playground, enhancing Apple’s AI capabilities[1].\\n\\n6/ 🖋️ **Collaborative Tools**: OpenAI has launched ChatGPT Canvas, a tool for real-time collaborative writing and coding with ChatGPT[1].\\n\\n7/ 🌐 **Regulatory Insights**: Google has urged the U.S. government to block Microsoft’s exclusive agreement with OpenAI, citing concerns over data access and security[1].\\n\\n8/ 📈 **AI Adoption Trends**: Indian businesses are focusing on long-term gains and operational efficiency through AI adoption, according to IBM reports[1].\\n\\n9/ 🔍 **Research Advancements**: MIT researchers are working on making AI explain its predictions in plain language using Large Language Models (LLMs). They also developed “ContextCite” to track AI’s source attribution[2].\\n\\n10/ 🌍 **Global Impact**: AI adoption in China has grown significantly, with Baidu’s Ernie Bot leading the market. China is also conducting an antitrust probe against Nvidia[1][2].\\n\\n11/ 🎨 **Creative Tools**: OpenAI’s Sora can generate up to 20-second videos in 1080p resolution and allows users to remix AI-generated content with their own assets[1].\\n\\n12/ 📊 **Tax Avoidance**: Nvidia CEO Jensen Huang has been accused of tax avoidance strategies, highlighting the complexities in corporate taxation[1].\\n\\n13/ 🚨 **Safety Concerns**: Five Senate Democrats have written to OpenAI CEO Sam Altman, seeking clarity on safety and employment practices[3].\\n\\n14/ 🌐 **Innovation Spotlight**: Researchers at MIT are working on innovative methods to track AI's source attribution, detect potential misinformation, and improve 3D model creation[2].\\n\\n15/ 🌟 **Future Frontiers**: With its significant advancements, AI continues to open opportunities we haven’t even thought of yet, as highlighted by AWS’s David Levy[1].\""
      ]
     },
     "execution_count": 8,
     "metadata": {},
     "output_type": "execute_result"
    }
   ],
   "source": [
    "chain = prompt | llm\n",
    "response = chain.invoke({\"input\": \"Latest news on AI.\"})\n",
    "response.content"
   ]
  },
  {
   "cell_type": "code",
   "execution_count": 9,
   "metadata": {},
   "outputs": [
    {
     "name": "stdout",
     "output_type": "stream",
     "text": [
      "('1/ 🚀 Here’s the latest in AI news!\\n'\n",
      " '\\n'\n",
      " \"🔹 **Meta's AI Enhancements**: Meta has released an AI model to enhance the \"\n",
      " 'metaverse experience, including a Large Concept Model (LCM) for language '\n",
      " 'modeling[1].\\n'\n",
      " '\\n'\n",
      " '2/ 🌐 **OpenAI Updates**: OpenAI has restored ChatGPT services after a major '\n",
      " 'disruption. Additionally, they’ve introduced ChatGPT Pro for research use '\n",
      " \"and launched 'Sora Turbo' for video generation[1].\\n\"\n",
      " '\\n'\n",
      " '3/ 📱 **AI in Tech**: Oppo’s Find X8 Pro boasts 5 AI-powered photography '\n",
      " 'features, and YouTube now offers an auto-dubbing tool in Hindi and seven '\n",
      " 'other languages[1].\\n'\n",
      " '\\n'\n",
      " '4/ 🤖 **Google’s AI Advances**: Google has unveiled its new AI agent that can '\n",
      " 'browse and act upon websites automatically. Gemini 2.0 surpasses previous '\n",
      " 'benchmarks with improved performance[1].\\n'\n",
      " '\\n'\n",
      " '5/ 💬 **Apple’s AI Integration**: iOS 18.2 introduces ChatGPT-powered Siri, '\n",
      " 'Visual Intelligence, and Image Playground, enhancing Apple’s AI '\n",
      " 'capabilities[1].\\n'\n",
      " '\\n'\n",
      " '6/ 🖋️ **Collaborative Tools**: OpenAI has launched ChatGPT Canvas, a tool '\n",
      " 'for real-time collaborative writing and coding with ChatGPT[1].\\n'\n",
      " '\\n'\n",
      " '7/ 🌐 **Regulatory Insights**: Google has urged the U.S. government to block '\n",
      " 'Microsoft’s exclusive agreement with OpenAI, citing concerns over data '\n",
      " 'access and security[1].\\n'\n",
      " '\\n'\n",
      " '8/ 📈 **AI Adoption Trends**: Indian businesses are focusing on long-term '\n",
      " 'gains and operational efficiency through AI adoption, according to IBM '\n",
      " 'reports[1].\\n'\n",
      " '\\n'\n",
      " '9/ 🔍 **Research Advancements**: MIT researchers are working on making AI '\n",
      " 'explain its predictions in plain language using Large Language Models '\n",
      " '(LLMs). They also developed “ContextCite” to track AI’s source '\n",
      " 'attribution[2].\\n'\n",
      " '\\n'\n",
      " '10/ 🌍 **Global Impact**: AI adoption in China has grown significantly, with '\n",
      " 'Baidu’s Ernie Bot leading the market. China is also conducting an antitrust '\n",
      " 'probe against Nvidia[1][2].\\n'\n",
      " '\\n'\n",
      " '11/ 🎨 **Creative Tools**: OpenAI’s Sora can generate up to 20-second videos '\n",
      " 'in 1080p resolution and allows users to remix AI-generated content with '\n",
      " 'their own assets[1].\\n'\n",
      " '\\n'\n",
      " '12/ 📊 **Tax Avoidance**: Nvidia CEO Jensen Huang has been accused of tax '\n",
      " 'avoidance strategies, highlighting the complexities in corporate '\n",
      " 'taxation[1].\\n'\n",
      " '\\n'\n",
      " '13/ 🚨 **Safety Concerns**: Five Senate Democrats have written to OpenAI CEO '\n",
      " 'Sam Altman, seeking clarity on safety and employment practices[3].\\n'\n",
      " '\\n'\n",
      " '14/ 🌐 **Innovation Spotlight**: Researchers at MIT are working on innovative '\n",
      " \"methods to track AI's source attribution, detect potential misinformation, \"\n",
      " 'and improve 3D model creation[2].\\n'\n",
      " '\\n'\n",
      " '15/ 🌟 **Future Frontiers**: With its significant advancements, AI continues '\n",
      " 'to open opportunities we haven’t even thought of yet, as highlighted by '\n",
      " 'AWS’s David Levy[1].')\n"
     ]
    }
   ],
   "source": [
    "from pprint import pprint as pp\n",
    "pp(response.content)"
   ]
  }
 ],
 "metadata": {
  "kernelspec": {
   "display_name": "venv",
   "language": "python",
   "name": "python3"
  },
  "language_info": {
   "codemirror_mode": {
    "name": "ipython",
    "version": 3
   },
   "file_extension": ".py",
   "mimetype": "text/x-python",
   "name": "python",
   "nbconvert_exporter": "python",
   "pygments_lexer": "ipython3",
   "version": "3.13.0"
  }
 },
 "nbformat": 4,
 "nbformat_minor": 2
}
